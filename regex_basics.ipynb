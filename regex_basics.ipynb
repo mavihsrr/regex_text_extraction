{
 "cells": [
  {
   "cell_type": "code",
   "execution_count": 2,
   "id": "d371d878",
   "metadata": {},
   "outputs": [],
   "source": [
    "import re"
   ]
  },
  {
   "cell_type": "code",
   "execution_count": 7,
   "id": "87e34e02",
   "metadata": {},
   "outputs": [],
   "source": [
    "text = '''hi this is my number 6267702526 you can call and ask for any 100 doubts\n",
    "also number could be (232)-2323-23234'''\n",
    "pattern = '\\d{10} | \\(\\d{3}\\)-\\d{4}-\\d{5}'\n",
    "\n",
    "matches = re.findall(pattern,text)"
   ]
  },
  {
   "cell_type": "code",
   "execution_count": 9,
   "id": "817e7750",
   "metadata": {},
   "outputs": [
    {
     "data": {
      "text/plain": [
       "['Overview', 'Summary of Significant Accounting Policies']"
      ]
     },
     "execution_count": 9,
     "metadata": {},
     "output_type": "execute_result"
    }
   ],
   "source": [
    "text = '''Note 1 – Overview\n",
    "Tesla, Inc. (“Tesla”, the “Company”, “we”, “us” or “our”) was incorporated in the State of Delaware on July 1, 2003. We design, develop, manufacture and sell high-performance fully electric vehicles and design, manufacture, install and sell solar energy generation and energy storage\n",
    "products. Our Chief Executive Officer, as the chief operating decision maker (“CODM”), organizes our company, manages resource allocations and measures performance among two operating and reportable segments: (i) automotive and (ii) energy generation and storage.\n",
    "There continues to be widespread impact from the COVID-19 pandemic. Beginning in the first quarter of 2021, there has been a trend in many\n",
    "parts of the world of increasing availability and administration of vaccines against COVID-19, as well as an easing of restrictions on social, business,\n",
    "travel and government activities and functions. On the other hand, infection rates and regulations continue to fluctuate in various regions and there are\n",
    "ongoing global impacts resulting from the pandemic, including challenges and increases in costs for logistics and supply chains, such as increased port\n",
    "congestion, intermittent supplier delays and a shortfall of semiconductor supply. We have been affected by temporary manufacturing closures,\n",
    "employment and compensation adjustments and impediments to administrative activities supporting our product deliveries and deployments.\n",
    "In addition, we have experienced and are experiencing varying levels of inflation resulting in part from various supply chain disruptions,\n",
    "increased shipping and transportation costs, increased raw material and labor costs and other disruptions caused by the COVID‐19 pandemic and\n",
    "general global economic conditions. The inflationary impact on our cost structure has contributed to adjustments in our product pricing, despite a\n",
    "continued focus on reducing our manufacturing costs where possible.\n",
    "On August 5, 2022, we increased the number of authorized shares of common stock by 4,000,000,000 shares and our Board of Directors declared\n",
    "a three-for-one split of the Company’s common stock effected in the form of a stock dividend (the “2022 Stock Split”). Each stockholder of record on\n",
    "August 17, 2022 received a dividend of two additional shares of common stock for each then-held share, distributed after close of trading on August 24,\n",
    "2022. All share and per share amounts presented herein have been retroactively adjusted to reflect the impact of the 2022 Stock Split.\n",
    "Note 2 – Summary of Significant Accounting Policies\n",
    "Unaudited Interim Financial Statements\n",
    "The consolidated balance sheet as of September 30, 2022, the consolidated statements of operations, the consolidated statements of\n",
    "comprehensive income, the consolidated statements of redeemable noncontrolling interests and equity for the three and nine months ended September\n",
    "30, 2022 and 2021 and the consolidated statements of cash flows for the nine months ended September 30, 2022 and 2021, as well as other information\n",
    "disclosed in the accompanying notes, are unaudited. The consolidated balance sheet as of December 31, 2021 was derived from the audited\n",
    "consolidated financial statements as of that date. The interim consolidated financial statements and the accompanying notes should be read in\n",
    "conjunction with the annual consolidated financial statements and the accompanying notes contained in our Annual Report on Form 10-K for the year\n",
    "ended December 31, 2021.\n",
    "The interim consolidated financial statements and the accompanying notes have been prepared on the same basis as the annual consolidated\n",
    "financial statements and, in the opinion of management, reflect all adjustments, which include only normal recurring adjustments, necessary for a fair\n",
    "statement of the results of operations for the periods presented. The consolidated results of operations for any interim period are not necessarily\n",
    "indicative of the results to be expected for the full year or for any other future years or interim periods.\n",
    "Use of Estimates\n",
    "The preparation of financial statements in conformity with U.S. generally accepted accounting principles (“GAAP”) requires management to make estimates and assumptions that affect the reported amounts of assets, liabilities, revenues, costs and expenses and related disclosures in the\n",
    "accompanying notes.\n",
    "'''\n",
    "pattern = 'Note \\d . ([^\\n]+)'\n",
    "re.findall(pattern,text)"
   ]
  },
  {
   "cell_type": "code",
   "execution_count": 19,
   "id": "52843fad",
   "metadata": {},
   "outputs": [
    {
     "name": "stdout",
     "output_type": "stream",
     "text": [
      "['FY2023 Q1', 'FY2023 Q2']\n",
      "['2023 Q1', '2023 Q2']\n",
      "[('2023 Q1', '$4.2'), ('2023 Q2', '$2.7')]\n"
     ]
    }
   ],
   "source": [
    "text = '''Financial growth in FY2023 Q1 was $4.2 billion dollars the company saw a boom \n",
    "and in FY2023 Q2 it was $2.7 billion dollars'''\n",
    "pattern1 = 'FY\\d{4} Q[1-4]'\n",
    "match1 = re.findall(pattern1,text,flags=re.IGNORECASE)\n",
    "print(match1)\n",
    "pattern2 = 'FY(\\d{4} Q[1-4])'\n",
    "match2 = re.findall(pattern2,text)\n",
    "print(match2)\n",
    "patt = 'FY(\\d{4} Q[1-4]) [^\\$]+ (\\$[\\d.]+)'\n",
    "match3 = re.findall(patt,text)\n",
    "print(match3)"
   ]
  },
  {
   "cell_type": "code",
   "execution_count": null,
   "id": "493b48d3",
   "metadata": {},
   "outputs": [],
   "source": []
  },
  {
   "cell_type": "code",
   "execution_count": null,
   "id": "5fbb6b12",
   "metadata": {},
   "outputs": [],
   "source": []
  },
  {
   "cell_type": "code",
   "execution_count": null,
   "id": "1ed8ac58",
   "metadata": {},
   "outputs": [],
   "source": []
  },
  {
   "cell_type": "code",
   "execution_count": null,
   "id": "83e4f7b5",
   "metadata": {},
   "outputs": [],
   "source": []
  }
 ],
 "metadata": {
  "kernelspec": {
   "display_name": "Python 3 (ipykernel)",
   "language": "python",
   "name": "python3"
  },
  "language_info": {
   "codemirror_mode": {
    "name": "ipython",
    "version": 3
   },
   "file_extension": ".py",
   "mimetype": "text/x-python",
   "name": "python",
   "nbconvert_exporter": "python",
   "pygments_lexer": "ipython3",
   "version": "3.10.4"
  }
 },
 "nbformat": 4,
 "nbformat_minor": 5
}
