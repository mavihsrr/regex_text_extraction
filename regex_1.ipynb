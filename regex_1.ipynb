{
 "cells": [
  {
   "cell_type": "code",
   "execution_count": 1,
   "id": "167c72be",
   "metadata": {},
   "outputs": [],
   "source": [
    "import re"
   ]
  },
  {
   "cell_type": "code",
   "execution_count": 2,
   "id": "bede107f",
   "metadata": {},
   "outputs": [
    {
     "name": "stdout",
     "output_type": "stream",
     "text": [
      "['1235638912', ' (123)-567-8912', '1122348912'] ['abc@xyz.com', 'abc@xyz.com', 'abc@xyz.com']\n"
     ]
    }
   ],
   "source": [
    "text = '''chat1 = 'codebasics: you ask lot of questions 😠  1235638912, abc@xyz.com'\n",
    "chat2 = 'codebasics: here it is: (123)-567-8912, abc@xyz.com'\n",
    "chat3 = 'codebasics: yes, phone: 1122348912 email: abc@xyz.com'''\n",
    "\n",
    "\n",
    "phone= '\\d{10}| \\(\\d{3}\\)-\\d{3}-\\d{4}'\n",
    "mail = '[a-zA-Z0-9_]*@[a-zA-Z0-9]*\\.[a-z]*'\n",
    "match1 = re.findall(phone,text)\n",
    "match2 = re.findall(mail,text)\n",
    "print(match1,match2)\n"
   ]
  },
  {
   "cell_type": "code",
   "execution_count": 3,
   "id": "0d198a87",
   "metadata": {},
   "outputs": [
    {
     "name": "stdout",
     "output_type": "stream",
     "text": [
      "['002889912', '112889912', '412819912']\n"
     ]
    }
   ],
   "source": [
    "text = '''chat1='codebasics: Hello, I am having an issue with my order # 002889912'\n",
    "\n",
    "chat2='codebasics: I have a problem with my order number 112889912'\n",
    "\n",
    "chat3='codebasics: My order 412819912 is having an issue, I was charged 300$ when online it says 280$'''\n",
    "\n",
    "order = 'order [^\\d]*(\\d*)'\n",
    "\n",
    "mat = re.findall(order,text)\n",
    "print(mat)"
   ]
  },
  {
   "cell_type": "code",
   "execution_count": null,
   "id": "0b24e779",
   "metadata": {},
   "outputs": [],
   "source": []
  },
  {
   "cell_type": "code",
   "execution_count": null,
   "id": "6050e83b",
   "metadata": {},
   "outputs": [],
   "source": []
  },
  {
   "cell_type": "code",
   "execution_count": null,
   "id": "473f98c8",
   "metadata": {},
   "outputs": [],
   "source": []
  },
  {
   "cell_type": "code",
   "execution_count": null,
   "id": "59e11de7",
   "metadata": {},
   "outputs": [],
   "source": []
  },
  {
   "cell_type": "code",
   "execution_count": null,
   "id": "5d2928b6",
   "metadata": {},
   "outputs": [],
   "source": []
  },
  {
   "cell_type": "code",
   "execution_count": null,
   "id": "0023f5a7",
   "metadata": {},
   "outputs": [],
   "source": [
    "\n"
   ]
  }
 ],
 "metadata": {
  "kernelspec": {
   "display_name": "Python 3 (ipykernel)",
   "language": "python",
   "name": "python3"
  },
  "language_info": {
   "codemirror_mode": {
    "name": "ipython",
    "version": 3
   },
   "file_extension": ".py",
   "mimetype": "text/x-python",
   "name": "python",
   "nbconvert_exporter": "python",
   "pygments_lexer": "ipython3",
   "version": "3.10.4"
  }
 },
 "nbformat": 4,
 "nbformat_minor": 5
}
